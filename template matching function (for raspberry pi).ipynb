{
 "cells": [
  {
   "cell_type": "code",
   "execution_count": 1,
   "metadata": {},
   "outputs": [],
   "source": [
    "import numpy as np\n",
    "import cv2\n",
    "import matplotlib.pyplot as plt\n",
    "%matplotlib inline"
   ]
  },
  {
   "cell_type": "code",
   "execution_count": 394,
   "metadata": {},
   "outputs": [],
   "source": [
    "import numpy as np\n",
    "import cv2\n",
    "\n",
    "#specify\n",
    "CAR_PATH = ''\n",
    "LP_PATH = ''\n",
    "\n",
    "#read car in grayscale, color and threshold and LP in grayscale\n",
    "car = cv2.imread(CAR_PATH,0)\n",
    "lp = cv2.imread(LP_PATH,0)\n",
    "\n",
    "\n",
    "# 16 different template sizes - greater chance of success\n",
    "\n",
    "\n",
    "def lp_finder_16(car):\n",
    "    \n",
    "    '''Function which returns list of  16 grayscale licence plate images, cropped from image of a car.\n",
    "    Uses template matching, with 16 different template LP shapes.\n",
    "    \n",
    "    Params:\n",
    "    car - grayscale image of a car\n",
    "    lp - grayscale image of template licence plate'''\n",
    "    \n",
    "    #reshape car image to 600x400 - not used here, original images give better results if not huge\n",
    "    #reshaping changes length and height ratios, which decreases algorithm efficiency \n",
    "    #since LP template shapes are hardcoded\n",
    "    car_r = cv2.resize(car, (600,400))\n",
    "    #thresholding car image\n",
    "    car_th = cv2.threshold(car, 0,255, cv2.THRESH_BINARY+cv2.THRESH_OTSU)[1]\n",
    "    car_canny = cv2.Canny(car_th, 200,400)\n",
    "    \n",
    "    \n",
    "    #for 16 different LP sizes\n",
    "    #getting resizing values for test licence plate\n",
    "    shape1 = np.arange(150,230,5)\n",
    "    shape2 = np.arange(56,84,1.5)\n",
    "    #shape2 contains floats, converting to ints\n",
    "    shape3 = []\n",
    "    for i in shape2:\n",
    "        shape3.append(int(i))\n",
    "    #creating tuples (shape1,shape3) in single list\n",
    "    sizes = zip(shape1,shape3)\n",
    "    sizes = list(sizes)\n",
    "    \n",
    "    #creating lp mask\n",
    "    lp = np.zeros((70,170), dtype=np.uint8)\n",
    "    lp = cv2.rectangle(lp, (3,3), (167,67), 255, -1)\n",
    "    # list of thresholded plates in all sizes\n",
    "    plates = []\n",
    "    for i in range(0, len(sizes)):\n",
    "        plates.append(cv2.resize(lp, sizes[i]))\n",
    "\n",
    "    #matching car with each LP size\n",
    "    matches = []\n",
    "    #list of matches for each size\n",
    "    for i in plates:\n",
    "        matches.append(cv2.matchTemplate(car_canny, i, cv2.TM_CCOEFF))\n",
    "    \n",
    "    #appends location of matched squares to list, inverted to (x,y), for thresh\n",
    "    #minMaxLoc finds maximum for each match\n",
    "    locs = []\n",
    "    for i in range(0, len(matches)):\n",
    "        locs.append(tuple(cv2.minMaxLoc(matches[i])[3]))\n",
    "    \n",
    "    \n",
    "    #creates masks for images, where only LP remains\n",
    "    masks = []\n",
    "    for i in range(0,len(plates)):\n",
    "        black = np.zeros(car.shape, dtype=np.uint8)\n",
    "        black = cv2.rectangle(black, locs[i], (locs[i][0]+plates[i].shape[1], locs[i][1]+plates[i].shape[0]), 255, -1)\n",
    "        masks.append(black)\n",
    "    \n",
    "    #keeping only LP - cropped list contains all cropped images of LPs\n",
    "    cropped = []\n",
    "    for i in range(0,len(plates)):\n",
    "        masked = cv2.bitwise_and(car, car, mask=masks[i])\n",
    "        x,y = np.where(masked!=0)\n",
    "        topx = x.min()\n",
    "        bottomx = x.max()\n",
    "        topy=y.min()\n",
    "        bottomy=y.max()\n",
    "        crop = masked[topx:bottomx,topy:bottomy]\n",
    "        cropped.append(crop)\n",
    "        \n",
    "    return(cropped)   "
   ]
  },
  {
   "cell_type": "code",
   "execution_count": 1519,
   "metadata": {},
   "outputs": [],
   "source": [
    "def lp_finder_7(car):\n",
    "    \n",
    "    '''Function which returns list of 6 Otsu thresholded licence plate images, cropped from image of a car.\n",
    "    Uses template matching, with 6 different template shapes of white rectange with black edges.\n",
    "    \n",
    "    Params:\n",
    "    car - grayscale image of a car'''\n",
    "    \n",
    "\n",
    "    #thresholding car image\n",
    "    car_th = cv2.threshold(car, 0,255, cv2.THRESH_BINARY+cv2.THRESH_OTSU)[1]\n",
    "    #getting canny\n",
    "    car_canny = cv2.Canny(car_th, 200,400)\n",
    "    \n",
    "    #for 7 different LP sizes\n",
    "    #getting resizing values for test licence plate\n",
    "    shape1 = np.arange(150,235,12.5)\n",
    "    shape2 = np.arange(56,80,3)\n",
    "    #creating tuples (shape1,shape3) in single list\n",
    "    shape3 = []\n",
    "    for i in shape1:\n",
    "        shape3.append(int(i))\n",
    "    sizes = zip(shape3,shape2)\n",
    "    sizes = list(sizes)\n",
    "    sizes\n",
    "    \n",
    "    #creating lp mask - white rectangle with black edges\n",
    "    lp = np.zeros((56,150), dtype=np.uint8)\n",
    "    lp = cv2.rectangle(lp, (3,3), (147,53), 255, -1)\n",
    "    # list of thresholded plates in all sizes\n",
    "    plates = []\n",
    "    for i in range(0, len(sizes)):\n",
    "        plates.append(cv2.resize(lp, sizes[i]))\n",
    "\n",
    "    #matching car with each LP size\n",
    "    matches = []\n",
    "    #list of matches for each size\n",
    "    for i in plates:\n",
    "        matches.append(cv2.matchTemplate(car_canny, i, cv2.TM_CCOEFF))\n",
    "    \n",
    "    #appends location of matched squares to list, inverted to (x,y), for thresh\n",
    "    #minMaxLoc finds maximum for each match\n",
    "    locs = []\n",
    "    for i in range(0, len(matches)):\n",
    "        locs.append(tuple(cv2.minMaxLoc(matches[i])[3]))\n",
    "    \n",
    "    \n",
    "    #creates masks for images, where only LP remains\n",
    "    masks = []\n",
    "    for i in range(0,len(plates)):\n",
    "        black = np.zeros(car.shape, dtype=np.uint8)\n",
    "        black = cv2.rectangle(black, locs[i], (locs[i][0]+plates[i].shape[1], locs[i][1]+plates[i].shape[0]), 255, -1)\n",
    "        masks.append(black)\n",
    "    \n",
    "    #keeping only LP - cropped list contains all cropped images of LPs\n",
    "    cropped = []\n",
    "    for i in range(0,len(plates)):\n",
    "        masked = cv2.bitwise_and(car, car, mask=masks[i])\n",
    "        x,y = np.where(masked!=0)\n",
    "        topx = x.min()\n",
    "        bottomx = x.max()\n",
    "        topy=y.min()\n",
    "        bottomy=y.max()\n",
    "        crop = masked[topx:bottomx,topy:bottomy]\n",
    "        cropped.append(crop)\n",
    "        \n",
    "    return(cropped)"
   ]
  },
  {
   "cell_type": "code",
   "execution_count": 1520,
   "metadata": {},
   "outputs": [],
   "source": [
    "import numpy as np\n",
    "import cv2\n",
    "import matplotlib.pyplot as plt\n",
    "import pytesseract as tess\n",
    "import string\n",
    "from statistics import mode\n",
    "import statistics"
   ]
  },
  {
   "cell_type": "code",
   "execution_count": 1521,
   "metadata": {},
   "outputs": [],
   "source": [
    "#finding most frequent value\n",
    "from collections import Counter\n",
    "def most_frequent(List): \n",
    "    occurence_count = Counter(List) \n",
    "    return occurence_count.most_common(1)[0][0] "
   ]
  },
  {
   "cell_type": "code",
   "execution_count": 2623,
   "metadata": {},
   "outputs": [],
   "source": [
    "#reading image for testing\n",
    "car = cv2.imread('16.jpg', 0)\n",
    "regs7 = lp_finder_7(car)"
   ]
  },
  {
   "cell_type": "code",
   "execution_count": 2625,
   "metadata": {},
   "outputs": [
    {
     "data": {
      "image/png": "[encoded data removed]",
      "text/plain": [
       "<Figure size 576x288 with 7 Axes>"
      ]
     },
     "metadata": {
      "needs_background": "light"
     },
     "output_type": "display_data"
    }
   ],
   "source": [
    "plt.figure(figsize=(8,4))\n",
    "for i in range(len(regs7)):\n",
    "    plt.subplot(3,3,i+1)\n",
    "    plt.imshow(regs7[i], cmap='gray')"
   ]
  },
  {
   "cell_type": "code",
   "execution_count": 2626,
   "metadata": {},
   "outputs": [],
   "source": [
    "#making thresholded plates for tesseract\n",
    "regs7_th = []\n",
    "for i in regs7:\n",
    "    regs7_th.append(cv2.threshold(i, 0, 255, cv2.THRESH_BINARY + cv2.THRESH_OTSU)[1])\n",
    "# adding median filtering (denoiser) for each image\n",
    "for i in range(len(regs7_th)):\n",
    "    regs7_th.append(cv2.medianBlur(regs7_th[i], 5))"
   ]
  },
  {
   "cell_type": "code",
   "execution_count": 2627,
   "metadata": {},
   "outputs": [
    {
     "name": "stdout",
     "output_type": "stream",
     "text": [
      "['A', 'B', 'C', 'D', 'E', 'F', 'G', 'H', 'I', 'J', 'K', 'L', 'M', 'N', 'O', 'P', 'R', 'S', 'T', 'U', 'V', 'Z', '0', '1', '2', '3', '4', '5', '6', '7', '8', '9']\n"
     ]
    }
   ],
   "source": [
    "#allowed characters in plates\n",
    "#letters\n",
    "char = list(string.ascii_uppercase)\n",
    "#numbers\n",
    "for i in range (0,10):\n",
    "    char.append(str(i))\n",
    " #removing non croatian letters\n",
    "char.remove('Q')\n",
    "char.remove('W')\n",
    "char.remove('X')\n",
    "char.remove('Y')\n",
    "print(char)"
   ]
  },
  {
   "cell_type": "code",
   "execution_count": 2628,
   "metadata": {},
   "outputs": [],
   "source": [
    "#making list of all things tesseract reads\n",
    "all_regs = []\n",
    "#reading each image\n",
    "for i in range(len(regs7_th)):\n",
    "    all_regs.append(tess.image_to_string(regs7_th[i], lang='eng'))\n",
    "    #uppercasing\n",
    "    for j in range(len(all_regs)):\n",
    "        all_regs[j] = all_regs[j].upper()\n",
    "#getting rid of all non sucessful reads (i.e. if empty string is returned)\n",
    "all_regs_clean = []\n",
    "for i in all_regs:\n",
    "    if i != '':\n",
    "        all_regs_clean.append(i)"
   ]
  },
  {
   "cell_type": "code",
   "execution_count": 2629,
   "metadata": {},
   "outputs": [
    {
     "data": {
      "text/plain": [
       "['66500', '266651', '76267650', 'IE6500', '266765', '267676500EE']"
      ]
     },
     "execution_count": 2629,
     "metadata": {},
     "output_type": "execute_result"
    }
   ],
   "source": [
    "#removing all not allowed characters (those not in char)\n",
    "for i in range(len(all_regs_clean)):\n",
    "    for j in all_regs_clean[i]:\n",
    "        if j not in char:\n",
    "            all_regs_clean[i] = all_regs_clean[i].replace(j,'')\n",
    "all_regs_clean"
   ]
  },
  {
   "cell_type": "code",
   "execution_count": 2630,
   "metadata": {},
   "outputs": [
    {
     "data": {
      "text/plain": [
       "['ZG', 'ZG', 'ZG', 'ZG']"
      ]
     },
     "execution_count": 2630,
     "metadata": {},
     "output_type": "execute_result"
    }
   ],
   "source": [
    "#ity segment of licence plate\n",
    "city = []\n",
    "#list of all croatain cities, including some common misreads (O and D)\n",
    "cro_cities = ['BJ', 'BM', 'CK', 'DA', 'OA', 'DE', 'OE', 'DJ', 'OJ', 'DU', 'OU', 'GS',\n",
    "             'IM', 'KA', 'KC', 'KR', 'KT', 'KZ', 'MA', 'NA',\n",
    "             'NG', 'OG', 'DG', 'OS', 'DS', 'PU', 'PZ', 'RI', 'SB', 'SK','SL',\n",
    "              'ST', 'SI', 'VK', 'VT', 'VU', 'VZ', 'ZD', 'ZO', 'ZG', 'ZU']\n",
    "#city as first 2 letters read\n",
    "for i in all_regs_clean:\n",
    "    city.append(i[0:2])\n",
    "#replacing numbers with letters\n",
    "for i in range(len(city)):\n",
    "    for j in city[i]:\n",
    "        if j == '1':\n",
    "            city[i] = city[i].replace(j,'I')\n",
    "        if j == '2':\n",
    "            city[i] = city[i].replace(j,'Z')\n",
    "        if j == '3':\n",
    "            city[i] = city[i].replace(j,'G')\n",
    "        if j == '5':\n",
    "            city[i] = city[i].replace(j,'S')\n",
    "        if j == '6':\n",
    "            city[i] = city[i].replace(j,'G')\n",
    "        if j == '7':\n",
    "            city[i] = city[i].replace(j,'Z')\n",
    "        if j == '8':\n",
    "            city[i] = city[i].replace(j,'B')\n",
    "        if j == '0':\n",
    "            city[i] = city[i].replace(j,'O')\n",
    "#keeping only those from cro cities list\n",
    "city2 = []\n",
    "for i in city:\n",
    "    if i in cro_cities:\n",
    "        city2.append(i)\n",
    "#reading 2nd and 3rd characters if 1st and 2nd fail\n",
    "if city2 == []:\n",
    "    #third variable - tells if 1and2 or 2and3 are used as city letters\n",
    "    third = True\n",
    "    for i in all_regs_clean:\n",
    "        city.append(i[1:3])\n",
    "    for i in range(len(city)):\n",
    "        for j in city[i]:\n",
    "            if j == '1':\n",
    "                city[i] = city[i].replace(j,'I')\n",
    "            if j == '2':\n",
    "                city[i] = city[i].replace(j,'G')\n",
    "            if j == '3':\n",
    "                city[i] = city[i].replace(j,'B')\n",
    "            if j == '5':\n",
    "                city[i] = city[i].replace(j,'S')\n",
    "            if j == '6':\n",
    "                city[i] = city[i].replace(j,'G')\n",
    "            if j == '7':\n",
    "                city[i] = city[i].replace(j,'Z')\n",
    "            if j == '8':\n",
    "                city[i] = city[i].replace(j,'B')\n",
    "            if j == '0':\n",
    "                city[i] = city[i].replace(j,'O')\n",
    "    city2 = []\n",
    "    for i in city:\n",
    "        if i in cro_cities:\n",
    "            city2.append(i)\n",
    "#third set to false if first two letters are used\n",
    "else:\n",
    "    third = False\n",
    "#cleaning D and O\n",
    "for i in range(len(city2)):\n",
    "    if city2[i] == 'OA':\n",
    "        city2[i] = 'DA'\n",
    "    if city2[i] == 'OU':\n",
    "        city2[i] = 'DU'\n",
    "    if city2[i] == 'OE':\n",
    "        city2[i] = 'DE'\n",
    "    if city2[i] == 'OJ':\n",
    "        city2[i] = 'DJ'\n",
    "    if city2[i] == 'DS':\n",
    "        city2[i] = 'OS'\n",
    "    if city2[i] == 'DG':\n",
    "        city2[i] = 'OG'\n",
    "city2"
   ]
  },
  {
   "cell_type": "code",
   "execution_count": 2631,
   "metadata": {
    "scrolled": true
   },
   "outputs": [
    {
     "data": {
      "text/plain": [
       "'ZG'"
      ]
     },
     "execution_count": 2631,
     "metadata": {},
     "output_type": "execute_result"
    }
   ],
   "source": [
    "#getting most frequent as true value\n",
    "city = most_frequent(city2)\n",
    "city"
   ]
  },
  {
   "cell_type": "code",
   "execution_count": 2632,
   "metadata": {},
   "outputs": [
    {
     "data": {
      "text/plain": [
       "['66500', '266651', '76267650', 'IE6500', '266765', '267676500EE']"
      ]
     },
     "execution_count": 2632,
     "metadata": {},
     "output_type": "execute_result"
    }
   ],
   "source": [
    "#list of numbers\n",
    "number = []\n",
    "#list of allowed numeric characters (0-9)\n",
    "numchar = []\n",
    "for i in range(10):\n",
    "    numchar.append(str(i))\n",
    "#getting read characters into number list, to try to infer\n",
    "if third == False:\n",
    "    for i in all_regs_clean:\n",
    "        number.append(i)\n",
    "else:\n",
    "    for i in all_regs_clean:\n",
    "        number.append(i)\n",
    "number"
   ]
  },
  {
   "cell_type": "code",
   "execution_count": 2633,
   "metadata": {},
   "outputs": [
    {
     "data": {
      "text/plain": [
       "['66500', '266651', '76267650', '6500', '266765', '267676500']"
      ]
     },
     "execution_count": 2633,
     "metadata": {},
     "output_type": "execute_result"
    }
   ],
   "source": [
    "#throwing letters out\n",
    "for i in range(len(number)):\n",
    "    for j in number[i]:\n",
    "        if j not in numchar:\n",
    "            number[i] = number[i].replace(j,'')\n",
    "number"
   ]
  },
  {
   "cell_type": "code",
   "execution_count": 2634,
   "metadata": {},
   "outputs": [
    {
     "data": {
      "text/plain": [
       "['6500']"
      ]
     },
     "execution_count": 2634,
     "metadata": {},
     "output_type": "execute_result"
    }
   ],
   "source": [
    "#keeping only numbers with length 3 or 4\n",
    "number2 = []\n",
    "for i in number:\n",
    "    if len(i) == 3 or len(i) == 4:\n",
    "        number2.append(i)\n",
    "number2"
   ]
  },
  {
   "cell_type": "code",
   "execution_count": 2635,
   "metadata": {},
   "outputs": [
    {
     "data": {
      "text/plain": [
       "['OO', 'SI', 'SO', 'OO', 'GS', 'EE']"
      ]
     },
     "execution_count": 2635,
     "metadata": {},
     "output_type": "execute_result"
    }
   ],
   "source": [
    "#ending 2 letters segment\n",
    "#try to keep only ones with length 1 and 2\n",
    "end = []\n",
    "#appending last 2 chars\n",
    "for i in all_regs_clean:\n",
    "    end.append(i[-2:])\n",
    "for i in range(len(end)):\n",
    "    for j in end[i]:\n",
    "        if j == '1':\n",
    "            end[i] = end[i].replace(j,'I')\n",
    "        if j == '2':\n",
    "            end[i] = end[i].replace(j,'Z')\n",
    "        if j == '3':\n",
    "            end[i] = end[i].replace(j,'B')\n",
    "        if j == '5':\n",
    "            end[i] = end[i].replace(j,'S')\n",
    "        if j == '6':\n",
    "            end[i] = end[i].replace(j,'G')\n",
    "        if j == '7':\n",
    "            end[i] = end[i].replace(j,'Z')\n",
    "        if j == '8':\n",
    "            end[i] = end[i].replace(j,'B')\n",
    "        if j == '0':\n",
    "            end[i] = end[i].replace(j,'O')\n",
    "end"
   ]
  },
  {
   "cell_type": "code",
   "execution_count": 2636,
   "metadata": {},
   "outputs": [
    {
     "data": {
      "text/plain": [
       "['ZG6500SI', 'ZG6500SO', 'ZG6500GS', 'ZG6500OO', 'ZG6500EE']"
      ]
     },
     "execution_count": 2636,
     "metadata": {},
     "output_type": "execute_result"
    }
   ],
   "source": [
    "final = []\n",
    "final2 = []\n",
    "#combining city with every possible number\n",
    "for i in number2:\n",
    "    final.append(city+i)\n",
    "#combining all city-numbers with each possible ending \n",
    "for i in final:\n",
    "    for j in end:\n",
    "        final2.append(i+j)\n",
    "#removing duplicates\n",
    "final2 = set(final2)\n",
    "final2 = list(final2)\n",
    "final2"
   ]
  },
  {
   "cell_type": "code",
   "execution_count": 2637,
   "metadata": {},
   "outputs": [],
   "source": [
    "import PIL as pil"
   ]
  },
  {
   "cell_type": "code",
   "execution_count": 699,
   "metadata": {},
   "outputs": [],
   "source": [
    "a = pil.Image.open('r3.jpg')"
   ]
  },
  {
   "cell_type": "code",
   "execution_count": 700,
   "metadata": {},
   "outputs": [
    {
     "data": {
      "image/png": "[encoded data removed]",
      "text/plain": [
       "<PIL.JpegImagePlugin.JpegImageFile image mode=RGB size=193x53 at 0x7FE43C1B4910>"
      ]
     },
     "execution_count": 700,
     "metadata": {},
     "output_type": "execute_result"
    }
   ],
   "source": [
    "a"
   ]
  },
  {
   "cell_type": "code",
   "execution_count": 743,
   "metadata": {},
   "outputs": [
    {
     "data": {
      "text/plain": [
       "<matplotlib.image.AxesImage at 0x7fe423bfd810>"
      ]
     },
     "execution_count": 743,
     "metadata": {},
     "output_type": "execute_result"
    },
    {
     "data": {
      "image/png": "[encoded data removed]",
      "text/plain": [
       "<Figure size 432x288 with 1 Axes>"
      ]
     },
     "metadata": {
      "needs_background": "light"
     },
     "output_type": "display_data"
    }
   ],
   "source": [
    "b = cv2.imread('r3.jpg',0)\n",
    "c = cv2.threshold(b, 70, 255, cv2.THRESH_BINARY)[1]\n",
    "plt.imshow(c, cmap='gray')"
   ]
  },
  {
   "cell_type": "code",
   "execution_count": 745,
   "metadata": {},
   "outputs": [
    {
     "data": {
      "text/plain": [
       "''"
      ]
     },
     "execution_count": 745,
     "metadata": {},
     "output_type": "execute_result"
    }
   ],
   "source": [
    "tess.image_to_string(a)"
   ]
  },
  {
   "cell_type": "code",
   "execution_count": 697,
   "metadata": {},
   "outputs": [],
   "source": [
    "tess.image_to_string?"
   ]
  }
 ],
 "metadata": {
  "kernelspec": {
   "display_name": "Python 3",
   "language": "python",
   "name": "python3"
  },
  "language_info": {
   "codemirror_mode": {
    "name": "ipython",
    "version": 3
   },
   "file_extension": ".py",
   "mimetype": "text/x-python",
   "name": "python",
   "nbconvert_exporter": "python",
   "pygments_lexer": "ipython3",
   "version": "3.7.4"
  }
 },
 "nbformat": 4,
 "nbformat_minor": 2
}
