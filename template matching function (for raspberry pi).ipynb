{
 "cells": [
  {
   "cell_type": "code",
   "execution_count": 1,
   "metadata": {},
   "outputs": [],
   "source": [
    "import numpy as np\n",
    "import cv2\n",
    "import matplotlib.pyplot as plt\n",
    "%matplotlib inline"
   ]
  },
  {
   "cell_type": "code",
   "execution_count": 2,
   "metadata": {},
   "outputs": [],
   "source": [
    "import numpy as np\n",
    "import cv2\n",
    "\n",
    "#specify\n",
    "CAR_PATH = ''\n",
    "LP_PATH = ''\n",
    "\n",
    "#read car in grayscale, color and threshold and LP in grayscale\n",
    "car = cv2.imread(CAR_PATH,0)\n",
    "lp = cv2.imread(LP_PATH,0)\n",
    "\n",
    "\n",
    "# 16 different template sizes - greater chance of success\n",
    "\n",
    "\n",
    "def lp_finder_16(car):\n",
    "    \n",
    "    '''Function which returns list of  16 grayscale licence plate images, cropped from image of a car.\n",
    "    Uses template matching, with 16 different template LP shapes.\n",
    "    \n",
    "    Params:\n",
    "    car - grayscale image of a car\n",
    "    lp - grayscale image of template licence plate'''\n",
    "    \n",
    "    #reshape car image to 600x400 - not used here, original images give better results if not huge\n",
    "    #reshaping changes length and height ratios, which decreases algorithm efficiency \n",
    "    #since LP template shapes are hardcoded\n",
    "    car_r = cv2.resize(car, (600,400))\n",
    "    #thresholding car image\n",
    "    car_th = cv2.threshold(car_r, 0,255, cv2.THRESH_BINARY+cv2.THRESH_OTSU)[1]\n",
    "    car_canny = cv2.Canny(car_th, 200,400)\n",
    "    \n",
    "    \n",
    "    #for 16 different LP sizes\n",
    "    #getting resizing values for test licence plate\n",
    "    shape1 = np.arange(150,230,5)\n",
    "    shape2 = np.arange(56,84,1.5)\n",
    "    #shape2 contains floats, converting to ints\n",
    "    shape3 = []\n",
    "    for i in shape2:\n",
    "        shape3.append(int(i))\n",
    "    #creating tuples (shape1,shape3) in single list\n",
    "    sizes = zip(shape1,shape3)\n",
    "    sizes = list(sizes)\n",
    "    \n",
    "    #creating lp mask\n",
    "    lp = np.zeros((70,170), dtype=np.uint8)\n",
    "    lp = cv2.rectangle(lp, (3,3), (167,67), 255, -1)\n",
    "    # list of thresholded plates in all sizes\n",
    "    plates = []\n",
    "    for i in range(0, len(sizes)):\n",
    "        plates.append(cv2.resize(lp, sizes[i]))\n",
    "\n",
    "    #matching car with each LP size\n",
    "    matches = []\n",
    "    #list of matches for each size\n",
    "    for i in plates:\n",
    "        matches.append(cv2.matchTemplate(car_canny, i, cv2.TM_CCOEFF))\n",
    "    \n",
    "    #appends location of matched squares to list, inverted to (x,y), for thresh\n",
    "    #minMaxLoc finds maximum for each match\n",
    "    locs = []\n",
    "    for i in range(0, len(matches)):\n",
    "        locs.append(tuple(cv2.minMaxLoc(matches[i])[3]))\n",
    "    \n",
    "    \n",
    "    #creates masks for images, where only LP remains\n",
    "    masks = []\n",
    "    for i in range(0,len(plates)):\n",
    "        black = np.zeros(car.shape, dtype=np.uint8)\n",
    "        black = cv2.rectangle(black, locs[i], (locs[i][0]+plates[i].shape[1], locs[i][1]+plates[i].shape[0]), 255, -1)\n",
    "        masks.append(black)\n",
    "    \n",
    "    #keeping only LP - cropped list contains all cropped images of LPs\n",
    "    cropped = []\n",
    "    for i in range(0,len(plates)):\n",
    "        masked = cv2.bitwise_and(car, car, mask=masks[i])\n",
    "        x,y = np.where(masked!=0)\n",
    "        topx = x.min()\n",
    "        bottomx = x.max()\n",
    "        topy=y.min()\n",
    "        bottomy=y.max()\n",
    "        crop = masked[topx:bottomx,topy:bottomy]\n",
    "        cropped.append(crop)\n",
    "        \n",
    "    return(cropped)   "
   ]
  },
  {
   "cell_type": "code",
   "execution_count": 19,
   "metadata": {},
   "outputs": [],
   "source": [
    "import numpy as np\n",
    "import cv2\n",
    "\n",
    "def lp_finder_3(car):\n",
    "    \n",
    "    '''Function which returns list of 3 licence plate images, cropped from image of a car.\n",
    "    Uses template matching, with 3 different template shapes of white rectange with black edges.\n",
    "    \n",
    "    Params:\n",
    "    car - image of a car'''\n",
    "    \n",
    "\n",
    "    #changing car image to grayscale\n",
    "    car = cv2.cvtColor(car, cv2.COLOR_BGR2GRAY)\n",
    "    #resizing to 600x400\n",
    "    car_r = cv2.resize(car, (600,400))\n",
    "    #thresholding using Otsu binarization\n",
    "    car_th = cv2.threshold(car_r, 0,255, cv2.THRESH_BINARY+cv2.THRESH_OTSU)[1]\n",
    "    #getting canny\n",
    "    car_canny = cv2.Canny(car_th, 200,400)\n",
    "    \n",
    "    #3 different lp sizes\n",
    "    sizes = [(150,56),(187,65),(225,74)]\n",
    "    \n",
    "    #creating lp kernel for template matching - white rectangle with black edges\n",
    "    lp = np.zeros((56,150), dtype=np.uint8)\n",
    "    lp = cv2.rectangle(lp, (3,3), (147,53), 255, -1)\n",
    "    # list of thresholded plates in all sizes\n",
    "    plates = []\n",
    "    for i in range(len(sizes)):\n",
    "        plates.append(cv2.resize(lp, sizes[i]))\n",
    "\n",
    "    #matching car with each LP size\n",
    "    matches = []\n",
    "    #list of matches for each size\n",
    "    for i in plates:\n",
    "        matches.append(cv2.matchTemplate(car_canny, i, cv2.TM_CCOEFF))\n",
    "    \n",
    "    #appends location of matched squares to list, inverted to (x,y), for thresh\n",
    "    #minMaxLoc finds maximum for each match\n",
    "    locs = []\n",
    "    for i in range(len(matches)):\n",
    "        locs.append(tuple(cv2.minMaxLoc(matches[i])[3]))\n",
    "        \n",
    "    \n",
    "    #creates masks for images, where only LP remains\n",
    "    masks = []\n",
    "    for i in range(len(plates)):\n",
    "        black = np.zeros(car_r.shape, dtype=np.uint8)\n",
    "        black = cv2.rectangle(black, locs[i], (locs[i][0]+plates[i].shape[1], locs[i][1]+plates[i].shape[0]), 255, -1)\n",
    "        masks.append(black)\n",
    "        \n",
    "    #returning masks to original input image size\n",
    "    #this way, original size of LP is returned\n",
    "    masks_r = []\n",
    "    for i in masks:\n",
    "        masks_r.append(cv2.resize(i, tuple([car.shape[1], car.shape[0]])))\n",
    "    \n",
    "    #keeping only LP - cropped list contains all cropped images of LPs\n",
    "    cropped = []\n",
    "    for i in range(len(plates)):\n",
    "        masked = cv2.bitwise_and(car, car, mask=masks_r[i])\n",
    "        x,y = np.where(masked!=0)\n",
    "        topx = x.min()\n",
    "        bottomx = x.max()\n",
    "        topy=y.min()\n",
    "        bottomy=y.max()\n",
    "        crop = masked[topx:bottomx,topy:bottomy]\n",
    "        cropped.append(crop)\n",
    "        \n",
    "    return(cropped)"
   ]
  },
  {
   "cell_type": "code",
   "execution_count": 575,
   "metadata": {},
   "outputs": [],
   "source": [
    "import numpy as np\n",
    "import cv2\n",
    "import matplotlib.pyplot as plt\n",
    "import pytesseract as tess\n",
    "import string"
   ]
  },
  {
   "cell_type": "code",
   "execution_count": 2220,
   "metadata": {},
   "outputs": [],
   "source": [
    "#reading image for testing\n",
    "car = cv2.imread('29.jpg')\n",
    "regs = lp_finder_3(car)"
   ]
  },
  {
   "cell_type": "code",
   "execution_count": 2221,
   "metadata": {
    "scrolled": false
   },
   "outputs": [
    {
     "data": {
      "image/png": "[encoded data removed]",
      "text/plain": [
       "<Figure size 576x288 with 3 Axes>"
      ]
     },
     "metadata": {
      "needs_background": "light"
     },
     "output_type": "display_data"
    }
   ],
   "source": [
    "plt.figure(figsize=(8,4))\n",
    "for i in range(len(regs)):\n",
    "    plt.subplot(3,3,i+1)\n",
    "    plt.imshow(regs[i], cmap='gray')"
   ]
  },
  {
   "cell_type": "code",
   "execution_count": 2222,
   "metadata": {},
   "outputs": [],
   "source": [
    "#making thresholded plates for tesseract\n",
    "regs_th = []\n",
    "for i in regs:\n",
    "    regs_th.append(cv2.threshold(i, 0, 255, cv2.THRESH_BINARY + cv2.THRESH_OTSU)[1])\n",
    "# adding median filtering (denoiser) for each image\n",
    "for i in range(len(regs_th)):\n",
    "    regs_th.append(cv2.medianBlur(regs_th[i], 5))\n",
    "# adding original images\n",
    "for i in regs:\n",
    "    regs_th.append(i)"
   ]
  },
  {
   "cell_type": "code",
   "execution_count": 2223,
   "metadata": {},
   "outputs": [
    {
     "name": "stdout",
     "output_type": "stream",
     "text": [
      "['A', 'B', 'C', 'D', 'E', 'F', 'G', 'H', 'I', 'J', 'K', 'L', 'M', 'N', 'O', 'P', 'R', 'S', 'T', 'U', 'V', 'Z', '0', '1', '2', '3', '4', '5', '6', '7', '8', '9']\n"
     ]
    }
   ],
   "source": [
    "#allowed characters in plates\n",
    "#letters\n",
    "char = list(string.ascii_uppercase)\n",
    "#numbers\n",
    "for i in range (0,10):\n",
    "    char.append(str(i))\n",
    " #removing non croatian letters\n",
    "char.remove('Q')\n",
    "char.remove('W')\n",
    "char.remove('X')\n",
    "char.remove('Y')\n",
    "print(char)"
   ]
  },
  {
   "cell_type": "code",
   "execution_count": 2224,
   "metadata": {},
   "outputs": [],
   "source": [
    "#making list of all things tesseract reads\n",
    "all_regs = []\n",
    "#reading each image\n",
    "for i in range(len(regs_th)):\n",
    "    all_regs.append(tess.image_to_string(regs_th[i], config='--psm 8'))\n",
    "    #uppercasing\n",
    "    for j in range(len(all_regs)):\n",
    "        all_regs[j] = all_regs[j].upper()\n",
    "#getting rid of all non sucessful reads (i.e. if empty string is returned)\n",
    "all_regs_clean = []\n",
    "for i in all_regs:\n",
    "    if i != '':\n",
    "        all_regs_clean.append(i)"
   ]
  },
  {
   "cell_type": "code",
   "execution_count": 2226,
   "metadata": {},
   "outputs": [
    {
     "data": {
      "text/plain": [
       "['26° 29756',\n",
       " 'AIE Z SEN',\n",
       " 'WEER',\n",
       " '20 7979¢',\n",
       " 'AHD!',\n",
       " 'WHAAT',\n",
       " 'ZG°207E',\n",
       " 'EE ZS EN',\n",
       " 'MACCA']"
      ]
     },
     "execution_count": 2226,
     "metadata": {},
     "output_type": "execute_result"
    }
   ],
   "source": [
    "all_regs_clean"
   ]
  },
  {
   "cell_type": "code",
   "execution_count": 2227,
   "metadata": {
    "scrolled": true
   },
   "outputs": [
    {
     "data": {
      "text/plain": [
       "['2629756',\n",
       " 'AIEZSEN',\n",
       " 'EER',\n",
       " '207979',\n",
       " 'AHD',\n",
       " 'HAAT',\n",
       " 'ZG207E',\n",
       " 'EEZSEN',\n",
       " 'MACCA']"
      ]
     },
     "execution_count": 2227,
     "metadata": {},
     "output_type": "execute_result"
    }
   ],
   "source": [
    "#removing all not allowed characters (those not in char)\n",
    "for i in range(len(all_regs_clean)):\n",
    "    for j in all_regs_clean[i]:\n",
    "        if j not in char:\n",
    "            all_regs_clean[i] = all_regs_clean[i].replace(j,'')\n",
    "for i in all_regs_clean:\n",
    "    if len(i) < 3:\n",
    "        all_regs_clean.remove(i)\n",
    "all_regs_clean"
   ]
  },
  {
   "cell_type": "markdown",
   "metadata": {},
   "source": [
    "# City"
   ]
  },
  {
   "cell_type": "code",
   "execution_count": 2228,
   "metadata": {},
   "outputs": [
    {
     "data": {
      "text/plain": [
       "'ZG'"
      ]
     },
     "execution_count": 2228,
     "metadata": {},
     "output_type": "execute_result"
    }
   ],
   "source": [
    "#city segment of licence plate\n",
    "city = []\n",
    "#list of all croatain cities, including some common misreads (O and D)\n",
    "cro_cities = ['BJ', 'BM', 'CK', 'DA', 'OA', 'DE', 'OE', 'DJ', 'OJ', 'DU', 'OU', 'GS',\n",
    "             'IM', 'KA', 'KC', 'KR', 'KT', 'KZ', 'MA', 'NA',\n",
    "             'NG', 'OG', 'DG', 'OS', 'DS', 'PU', 'PZ', 'RI', 'SB', 'SK','SL',\n",
    "              'ST', 'SI', 'VK', 'VT', 'VU', 'VZ', 'ZD', 'ZO', 'ZG', 'ZU']\n",
    "#city as first 2 letters read\n",
    "for i in all_regs_clean:\n",
    "    city.append(i[0:2])\n",
    "#replacing numbers with letters\n",
    "for i in range(len(city)):\n",
    "    for j in city[i]:\n",
    "        if j == '1':\n",
    "            city[i] = city[i].replace(j,'I')\n",
    "        if j == '2':\n",
    "            city[i] = city[i].replace(j,'Z')\n",
    "        if j == '4':\n",
    "            city[i] = city[i].replace(j,'A')\n",
    "        if j == '5':\n",
    "            city[i] = city[i].replace(j,'S')\n",
    "        if j == '6':\n",
    "            city[i] = city[i].replace(j,'G')\n",
    "        if j == '7':\n",
    "            city[i] = city[i].replace(j,'Z')\n",
    "        if j == '8':\n",
    "            city[i] = city[i].replace(j,'B')\n",
    "        if j == '0':\n",
    "            city[i] = city[i].replace(j,'O')\n",
    "#some more cleaning:\n",
    "for i in range(len(city)):\n",
    "    if city[i] == 'ZC':\n",
    "        city[i] = 'ZG'\n",
    "#keeping only those from cro cities list\n",
    "city2 = []\n",
    "for i in city:\n",
    "    if i in cro_cities:\n",
    "        city2.append(i)\n",
    "#reading 2nd and 3rd characters if 1st and 2nd fail\n",
    "if city2 == []:\n",
    "    #third variable - tells if 1and2 or 2and3 are used as city letters\n",
    "    third = True\n",
    "    for i in all_regs_clean:\n",
    "        city.append(i[1:3])\n",
    "    for i in range(len(city)):\n",
    "        for j in city[i]:\n",
    "            if j == '1':\n",
    "                city[i] = city[i].replace(j,'I')\n",
    "            if j == '2':\n",
    "                city[i] = city[i].replace(j,'G')\n",
    "            if j == '4':\n",
    "                city[i] = city[i].replace(j,'A')\n",
    "            if j == '5':\n",
    "                city[i] = city[i].replace(j,'S')\n",
    "            if j == '6':\n",
    "                city[i] = city[i].replace(j,'G')\n",
    "            if j == '7':\n",
    "                city[i] = city[i].replace(j,'Z')\n",
    "            if j == '8':\n",
    "                city[i] = city[i].replace(j,'B')\n",
    "            if j == '0':\n",
    "                city[i] = city[i].replace(j,'O')\n",
    "    city2 = []\n",
    "    for i in city:\n",
    "        if i in cro_cities:\n",
    "            city2.append(i)\n",
    "#third set to false if first two letters are used\n",
    "else:\n",
    "    third = False\n",
    "#cleaning D and O\n",
    "for i in range(len(city2)):\n",
    "    if city2[i] == 'OA':\n",
    "        city2[i] = 'DA'\n",
    "    if city2[i] == 'OU':\n",
    "        city2[i] = 'DU'\n",
    "    if city2[i] == 'OE':\n",
    "        city2[i] = 'DE'\n",
    "    if city2[i] == 'OJ':\n",
    "        city2[i] = 'DJ'\n",
    "    if city2[i] == 'DS':\n",
    "        city2[i] = 'OS'\n",
    "    if city2[i] == 'DG':\n",
    "        city2[i] = 'OG'\n",
    "    if city2[i] == 'ZO':\n",
    "        city2[i] = 'ZD'\n",
    "        \n",
    "#most frequent\n",
    "if city2 != []:\n",
    "    city = max(set(city2), key=city2.count)\n",
    "else:\n",
    "    city = city2\n",
    "city"
   ]
  },
  {
   "cell_type": "markdown",
   "metadata": {},
   "source": [
    "# Ending segment"
   ]
  },
  {
   "cell_type": "code",
   "execution_count": 2229,
   "metadata": {},
   "outputs": [
    {
     "data": {
      "text/plain": [
       "['2629756',\n",
       " 'AIEZSEN',\n",
       " 'EER',\n",
       " '207979',\n",
       " 'AHD',\n",
       " 'HAAT',\n",
       " 'ZG207E',\n",
       " 'EEZSEN',\n",
       " 'MACCA']"
      ]
     },
     "execution_count": 2229,
     "metadata": {},
     "output_type": "execute_result"
    }
   ],
   "source": [
    "all_regs_clean"
   ]
  },
  {
   "cell_type": "code",
   "execution_count": 2230,
   "metadata": {},
   "outputs": [
    {
     "data": {
      "text/plain": [
       "['56', 'EN']"
      ]
     },
     "execution_count": 2230,
     "metadata": {},
     "output_type": "execute_result"
    }
   ],
   "source": [
    "#removing all shorter than 7: \n",
    "# if shorter than 7, last 2 letters are probably not present on cropped image\n",
    "last = []\n",
    "for i in all_regs_clean:\n",
    "    if len(i) >= 7:\n",
    "        last.append(i)\n",
    "        \n",
    "#taking last 2 letters\n",
    "for i in range(len(last)):\n",
    "    last[i] = last[i][-2:]\n",
    "\n",
    "last"
   ]
  },
  {
   "cell_type": "code",
   "execution_count": 2231,
   "metadata": {},
   "outputs": [],
   "source": [
    "#cleaning numbers and letters\n",
    "for i in range(len(last)):\n",
    "    for j in last[i]:\n",
    "        if j == '1':\n",
    "            last[i] = last[i].replace(j,'I')\n",
    "        if j == '2':\n",
    "            last[i] = last[i].replace(j,'Z')\n",
    "        if j == '4':\n",
    "            last[i] = last[i].replace(j,'A')\n",
    "        if j == '5':\n",
    "            last[i] = last[i].replace(j,'S')\n",
    "        if j == '6':\n",
    "            last[i] = last[i].replace(j,'G')\n",
    "        if j == '7':\n",
    "            last[i] = last[i].replace(j,'Z')\n",
    "        if j == '8':\n",
    "            last[i] = last[i].replace(j,'B')\n",
    "        if j == '0':\n",
    "            last[i] = last[i].replace(j,'O')\n",
    "#throwing out all containing 3 and 9\n",
    "last2 = []\n",
    "for i in last:\n",
    "    if '3' not in i:\n",
    "        last2.append(i)\n",
    "last = []\n",
    "for i in last2:\n",
    "    if '9' not in i:\n",
    "        last.append(i)\n",
    "\n",
    "# D and O\n",
    "for i in range(len(last)):\n",
    "    if 'O' in last[i]:\n",
    "        last.append(last[i].replace('O', 'D'))\n",
    "    if 'D' in last[i]:\n",
    "        last.append(last[i].replace('D', 'O'))"
   ]
  },
  {
   "cell_type": "code",
   "execution_count": 2232,
   "metadata": {
    "scrolled": true
   },
   "outputs": [
    {
     "data": {
      "text/plain": [
       "['SG', 'EN']"
      ]
     },
     "execution_count": 2232,
     "metadata": {},
     "output_type": "execute_result"
    }
   ],
   "source": [
    "last"
   ]
  },
  {
   "cell_type": "code",
   "execution_count": 2233,
   "metadata": {},
   "outputs": [],
   "source": [
    "#deduplicating and sorting by frequency (most frequent first)\n",
    "\n",
    "\n",
    "#if list contains 3 or less solutions, keeping them all\n",
    "if len(last) <= 3:\n",
    "    last = list(set(last))\n",
    "else:\n",
    "    #deduplicating and sorting by frequency (most frequent first)\n",
    "    last2 = sorted(last, key=last.count, reverse=True)\n",
    "    #if most common solution accounts for more than 50% possibilities, keeping it\n",
    "    if last2.count(last2[0])/len(last2) > 0.5:\n",
    "        last = [last2[0]]\n",
    "    else:\n",
    "        #keeping first 2 possibilites\n",
    "        last = []\n",
    "        for i in last2:\n",
    "            if i not in last:\n",
    "                last.append(i)\n",
    "        #keeping only first 2 solutions\n",
    "        last = last[:2]"
   ]
  },
  {
   "cell_type": "code",
   "execution_count": 2234,
   "metadata": {
    "scrolled": true
   },
   "outputs": [
    {
     "data": {
      "text/plain": [
       "['EN', 'SG']"
      ]
     },
     "execution_count": 2234,
     "metadata": {},
     "output_type": "execute_result"
    }
   ],
   "source": [
    "last"
   ]
  },
  {
   "cell_type": "markdown",
   "metadata": {},
   "source": [
    "# Numbers"
   ]
  },
  {
   "cell_type": "code",
   "execution_count": 1336,
   "metadata": {},
   "outputs": [
    {
     "data": {
      "text/plain": [
       "['KC3990',\n",
       " 'KC39906',\n",
       " 'BMKC39906',\n",
       " 'KC2330',\n",
       " 'KC39903',\n",
       " 'BK29503',\n",
       " 'KC399D',\n",
       " 'KC39906',\n",
       " 'BMKC39906']"
      ]
     },
     "execution_count": 1336,
     "metadata": {},
     "output_type": "execute_result"
    }
   ],
   "source": [
    "all_regs_clean"
   ]
  },
  {
   "cell_type": "code",
   "execution_count": 1337,
   "metadata": {},
   "outputs": [],
   "source": [
    "#list of allowed numeric characters (0-9)\n",
    "numchar = []\n",
    "for i in range(10):\n",
    "    numchar.append(str(i))"
   ]
  },
  {
   "cell_type": "code",
   "execution_count": null,
   "metadata": {},
   "outputs": [],
   "source": []
  },
  {
   "cell_type": "markdown",
   "metadata": {},
   "source": [
    "# Older work"
   ]
  },
  {
   "cell_type": "code",
   "execution_count": 1006,
   "metadata": {},
   "outputs": [],
   "source": [
    "#list of allowed numeric characters (0-9)\n",
    "numchar = []\n",
    "for i in range(10):\n",
    "    numchar.append(str(i))"
   ]
  },
  {
   "cell_type": "code",
   "execution_count": 987,
   "metadata": {},
   "outputs": [
    {
     "name": "stdout",
     "output_type": "stream",
     "text": [
      "['2374BI', '267987HK', 'ZG7987HK', '767987HK', 'B767987HK', '207SZ', 'BO73ZZ']\n",
      "len: 7\n"
     ]
    }
   ],
   "source": [
    "#cleaning last two elements from numbers\n",
    "\n",
    "numbers_last = []\n",
    "\n",
    "# -2:-1 char\n",
    "for i in range(len(all_regs_clean)):\n",
    "    a = list(all_regs_clean[i])\n",
    "    for j in range(1,3):\n",
    "        if a[-j] == '1':\n",
    "            a[-j] = 'I'\n",
    "        if a[-j] == '2':\n",
    "            a[-j] = 'Z'\n",
    "        if a[-j] == '3':\n",
    "            a[-j] = 'B'\n",
    "        if a[-j] == '4':\n",
    "            a[-j] = 'A'\n",
    "        if a[-j] == '5':\n",
    "            a[-j] = 'S'\n",
    "        if a[-j] == '6':\n",
    "            a[-j] = 'G'\n",
    "        if a[-j] == '7':\n",
    "            a[-j] = 'Z'\n",
    "        if a[-j] == '8':\n",
    "            a[-j] = 'B'\n",
    "        if a[-j] == '0':\n",
    "            a[-j] = 'O'\n",
    "    b = ''.join(a)\n",
    "    numbers_last.append(b)\n",
    "numbers_last = list(set(numbers_last))\n",
    "print(numbers_last)\n",
    "print('len:',len(numbers_last))"
   ]
  },
  {
   "cell_type": "code",
   "execution_count": 988,
   "metadata": {
    "scrolled": true
   },
   "outputs": [
    {
     "name": "stdout",
     "output_type": "stream",
     "text": [
      "['2G7987HK', '207S2', '2374BI', '267987HK', '767987HK', 'B767987HK', 'BO7322']\n",
      "len: 7\n"
     ]
    }
   ],
   "source": [
    "#if last two char are in numbers_last, remove them\n",
    "for i in range(len(numbers_last)):\n",
    "    if ''.join(list(numbers_last[i][-2:])) in numbers_last:\n",
    "        numbers_last[i] = numbers_last[i][:-2]\n",
    "\n",
    "#removing shorter than 3\n",
    "for i in numbers_last:\n",
    "    if len(i) < 3:\n",
    "        numbers_last.remove(i)\n",
    "#else, reverse transform: Z with 2, most common error\n",
    "# tesseract mistakens letters for numbers far most often on this problem\n",
    "for i in range(len(numbers_last)):\n",
    "    for j in list(numbers_last[i]):\n",
    "        if j == 'Z':\n",
    "            numbers_last[i] = numbers_last[i].replace('Z','2')\n",
    "        \n",
    "numbers_last = list(set(numbers_last))\n",
    "print(numbers_last)\n",
    "print('len:',len(numbers_last))"
   ]
  },
  {
   "cell_type": "code",
   "execution_count": 989,
   "metadata": {},
   "outputs": [
    {
     "name": "stdout",
     "output_type": "stream",
     "text": [
      "['BZ67987HK', 'B7G7987HK', 'BOZ322', 'Z374BI', 'ZOZS2', 'Z0ZS2', 'ZBZ4BI', 'Z6Z987HK', 'ZG7987HK', 'Z3Z4BI', 'B767987HK', 'Z07S2', 'Z67987HK', 'BO7322', 'ZGZ987HK', 'BZG7987HK', 'ZB74BI', 'ZO7S2']\n",
      "len: 18\n"
     ]
    }
   ],
   "source": [
    "numbers = []\n",
    "\n",
    "#1 char\n",
    "for i in range(len(numbers_last)):\n",
    "    a = list(numbers_last[i])\n",
    "    if a[0] == '1':\n",
    "        a[0] = 'I'\n",
    "    if a[0] == '2':\n",
    "        a[0] = 'Z'\n",
    "    if a[0] == '3':\n",
    "        a[0] = 'B'\n",
    "    if a[0] == '4':\n",
    "        a[0] = 'A'\n",
    "    if a[0] == '5':\n",
    "        a[0] = 'S'\n",
    "    if a[0] == '6':\n",
    "        a[0] = 'G'\n",
    "    if a[0] == '7':\n",
    "        a[0] = 'Z'\n",
    "    if a[0] == '8':\n",
    "        a[0] = 'B'\n",
    "    if a[0] == '0':\n",
    "        a[0] = 'O'\n",
    "    b = ''.join(a)\n",
    "    numbers.append(b)\n",
    "\n",
    "# 0:2 char\n",
    "for i in range(len(numbers_last)):\n",
    "    a = list(numbers[i])\n",
    "    if a[1] == '1':\n",
    "        a[1] = 'I'\n",
    "    if a[1] == '2':\n",
    "        a[1] = 'Z'\n",
    "    if a[1] == '3':\n",
    "        a[1] = 'B'\n",
    "    if a[1] == '4':\n",
    "        a[1] = 'A'\n",
    "    if a[1] == '5':\n",
    "        a[1] = 'S'\n",
    "    if a[1] == '6':\n",
    "        a[1] = 'G'\n",
    "    if a[1] == '7':\n",
    "        a[1] = 'Z'\n",
    "    if a[1] == '8':\n",
    "        a[1] = 'B'\n",
    "    if a[1] == '0':\n",
    "        a[1] = 'O'\n",
    "    b = ''.join(a)\n",
    "    numbers.append(b)\n",
    "\n",
    "#0:3 char\n",
    "for i in range(len(numbers)):\n",
    "    a = list(numbers[i])\n",
    "    if a[2] == '1':\n",
    "        a[2] = 'I'\n",
    "    if a[2] == '2':\n",
    "        a[2] = 'Z'\n",
    "    if a[2] == '3':\n",
    "        a[2] = 'B'\n",
    "    if a[2] == '4':\n",
    "        a[2] = 'A'\n",
    "    if a[2] == '5':\n",
    "        a[2] = 'S'\n",
    "    if a[2] == '6':\n",
    "        a[2] = 'G'\n",
    "    if a[2] == '7':\n",
    "        a[2] = 'Z'\n",
    "    if a[2] == '8':\n",
    "        a[2] = 'B'\n",
    "    if a[2] == '0':\n",
    "        a[2] = 'O'\n",
    "    b = ''.join(a)\n",
    "    numbers.append(b)\n",
    "numbers = list(set(numbers))\n",
    "print(numbers)\n",
    "print('len:',len(numbers))"
   ]
  },
  {
   "cell_type": "code",
   "execution_count": 990,
   "metadata": {
    "scrolled": false
   },
   "outputs": [],
   "source": [
    "#cleaning first two  or three letters from numbers\n",
    "\n",
    "#if first two char are in cro cities, remove them\n",
    "#for i in range(len(numbers)):\n",
    " #   if ''.join(list(numbers[i][0:2])) in cro_cities:\n",
    "  #      numbers[i] = numbers[i][2:]\n",
    "\n",
    "#after removing first two letters\n",
    "# if possible number in list starts with number, do nothing\n",
    "# else return original reading from numbers_last\n",
    "#for i in range(len(numbers)):\n",
    " #   if i in range(len(numbers_last)):\n",
    "  #      if list(numbers[i])[0] not in numchar:\n",
    "   #         numbers[i] = numbers_last[i]\n",
    "    #if i in range(len(numbers_last), 2*len(numbers_last)):\n",
    "     #   if list(numbers[i])[0] not in numchar:\n",
    "      #      numbers[i] = numbers_last[i-len(numbers_last)]\n",
    "    #if i in range(2*len(numbers_last), 3*len(numbers_last)):\n",
    "     #   if list(numbers[i])[0] not in numchar:\n",
    "         #   numbers[i] = numbers_last[i-2*len(numbers_last)]\n",
    "    \n",
    "#print(numbers)\n",
    "#print('len:',len(numbers))"
   ]
  },
  {
   "cell_type": "code",
   "execution_count": 991,
   "metadata": {},
   "outputs": [
    {
     "data": {
      "text/plain": [
       "['67987',\n",
       " '77987',\n",
       " '322',\n",
       " '374',\n",
       " '2',\n",
       " '02',\n",
       " '4',\n",
       " '6987',\n",
       " '7987',\n",
       " '34',\n",
       " '767987',\n",
       " '072',\n",
       " '67987',\n",
       " '7322',\n",
       " '987',\n",
       " '7987',\n",
       " '74',\n",
       " '72']"
      ]
     },
     "execution_count": 991,
     "metadata": {},
     "output_type": "execute_result"
    }
   ],
   "source": [
    "## throwing letters out after removing first char\n",
    "numbers2 = numbers.copy()\n",
    "for i in range(len(numbers2)):\n",
    "    for j in numbers2[i]:\n",
    "        if j not in numchar:\n",
    "            numbers2[i] = numbers2[i].replace(j,'')\n",
    "            \n",
    "#numbers2 - letters are removed\n",
    "numbers2"
   ]
  },
  {
   "cell_type": "code",
   "execution_count": 992,
   "metadata": {},
   "outputs": [
    {
     "data": {
      "text/plain": [
       "['6987', '7322', '374', '072', '322', '7987', '987']"
      ]
     },
     "execution_count": 992,
     "metadata": {},
     "output_type": "execute_result"
    }
   ],
   "source": [
    "#keeping only numbers with length 3 or 4\n",
    "numbers34 = []\n",
    "for i in numbers2:\n",
    "    if len(i) == 3 or len(i) == 4:\n",
    "        numbers34.append(i)\n",
    "numbers34 = set(numbers34)\n",
    "numbers34 = list(numbers34)\n",
    "numbers34"
   ]
  },
  {
   "cell_type": "code",
   "execution_count": 993,
   "metadata": {
    "scrolled": true
   },
   "outputs": [
    {
     "data": {
      "text/plain": [
       "['SZ', 'BI', 'HK', 'ZZ']"
      ]
     },
     "execution_count": 993,
     "metadata": {},
     "output_type": "execute_result"
    }
   ],
   "source": [
    "#ending 2 letters segment\n",
    "#try to keep only ones with length 1 and 2\n",
    "end = []\n",
    "#appending last 2 chars\n",
    "for i in all_regs_clean:\n",
    "    end.append(i[-2:])\n",
    "for i in range(len(end)):\n",
    "    for j in end[i]:\n",
    "        if j == '1':\n",
    "            end[i] = end[i].replace(j,'I')\n",
    "        if j == '2':\n",
    "            end[i] = end[i].replace(j,'Z')\n",
    "        if j == '3':\n",
    "            end[i] = end[i].replace(j,'B')\n",
    "        if j == '4':\n",
    "            end[i] = end[i].replace(j,'A')\n",
    "        if j == '5':\n",
    "            end[i] = end[i].replace(j,'S')\n",
    "        if j == '6':\n",
    "            end[i] = end[i].replace(j,'G')\n",
    "        if j == '7':\n",
    "            end[i] = end[i].replace(j,'Z')\n",
    "        if j == '8':\n",
    "            end[i] = end[i].replace(j,'B')\n",
    "        if j == '9':\n",
    "            end[i] = end[i].replace(j,'')\n",
    "        if j == '0':\n",
    "            end[i] = end[i].replace(j,'O')\n",
    "#removing if not 2 long\n",
    "for i in end:\n",
    "    if len(i) != 2:\n",
    "        end.remove(i)\n",
    "# D and O\n",
    "for i in range(len(end)):\n",
    "    if 'O' in end[i]:\n",
    "        end.append(end[i].replace('O', 'D'))\n",
    "    if 'D' in end[i]:\n",
    "        end.append(end[i].replace('D', 'O'))\n",
    "\n",
    "end = list(set(end))\n",
    "end"
   ]
  },
  {
   "cell_type": "code",
   "execution_count": 994,
   "metadata": {},
   "outputs": [
    {
     "data": {
      "text/plain": [
       "['ZG322HK',\n",
       " 'ZD374HK',\n",
       " 'ZD987ZZ',\n",
       " 'ZG072HK',\n",
       " 'ZG374BI',\n",
       " 'ZG7322SZ',\n",
       " 'ZG7987HK',\n",
       " 'ZD072HK',\n",
       " 'ZG6987ZZ',\n",
       " 'ZD072ZZ',\n",
       " 'ZD072BI',\n",
       " 'ZD322SZ',\n",
       " 'ZG374ZZ',\n",
       " 'ZG7987BI',\n",
       " 'ZD7322SZ',\n",
       " 'ZD7322ZZ',\n",
       " 'ZD6987SZ',\n",
       " 'ZD6987BI',\n",
       " 'ZG374SZ',\n",
       " 'ZG7987ZZ',\n",
       " 'ZD374ZZ',\n",
       " 'ZD7322HK',\n",
       " 'ZD987SZ',\n",
       " 'ZD374SZ',\n",
       " 'ZD7987BI',\n",
       " 'ZG072BI',\n",
       " 'ZG987SZ',\n",
       " 'ZG6987SZ',\n",
       " 'ZG987HK',\n",
       " 'ZG7322BI',\n",
       " 'ZG6987BI',\n",
       " 'ZG7322ZZ',\n",
       " 'ZD987BI',\n",
       " 'ZD6987HK',\n",
       " 'ZG322SZ',\n",
       " 'ZG987BI',\n",
       " 'ZG7322HK',\n",
       " 'ZG987ZZ',\n",
       " 'ZD322HK',\n",
       " 'ZG322BI',\n",
       " 'ZD374BI',\n",
       " 'ZG322ZZ',\n",
       " 'ZG7987SZ',\n",
       " 'ZD7987HK',\n",
       " 'ZD072SZ',\n",
       " 'ZD6987ZZ',\n",
       " 'ZD322BI',\n",
       " 'ZD322ZZ',\n",
       " 'ZD7987SZ',\n",
       " 'ZD7987ZZ',\n",
       " 'ZG374HK',\n",
       " 'ZG072ZZ',\n",
       " 'ZG072SZ',\n",
       " 'ZD987HK',\n",
       " 'ZG6987HK',\n",
       " 'ZD7322BI']"
      ]
     },
     "execution_count": 994,
     "metadata": {},
     "output_type": "execute_result"
    }
   ],
   "source": [
    "final = []\n",
    "final2 = []\n",
    "#combining city with every possible number\n",
    "for i in city:\n",
    "    for j in numbers34:\n",
    "        final.append(i+j)\n",
    "#combining all city-numbers with each possible ending \n",
    "for i in final:\n",
    "    for j in end:\n",
    "        final2.append(i+j)\n",
    "#removing duplicates\n",
    "final2 = set(final2)\n",
    "final2 = list(final2)\n",
    "final2"
   ]
  },
  {
   "cell_type": "code",
   "execution_count": 995,
   "metadata": {},
   "outputs": [],
   "source": [
    "import PIL as pil"
   ]
  },
  {
   "cell_type": "code",
   "execution_count": 649,
   "metadata": {},
   "outputs": [],
   "source": [
    "a = pil.Image.open('r7.jpg')"
   ]
  },
  {
   "cell_type": "code",
   "execution_count": 650,
   "metadata": {
    "scrolled": false
   },
   "outputs": [
    {
     "data": {
      "image/png": "[encoded data removed]",
      "text/plain": [
       "<PIL.JpegImagePlugin.JpegImageFile image mode=RGB size=170x54 at 0x7F3873CBC8D0>"
      ]
     },
     "execution_count": 650,
     "metadata": {},
     "output_type": "execute_result"
    }
   ],
   "source": [
    "a"
   ]
  },
  {
   "cell_type": "code",
   "execution_count": 651,
   "metadata": {
    "scrolled": true
   },
   "outputs": [
    {
     "data": {
      "text/plain": [
       "<matplotlib.image.AxesImage at 0x7f3871563510>"
      ]
     },
     "execution_count": 651,
     "metadata": {},
     "output_type": "execute_result"
    },
    {
     "data": {
      "image/png": "[encoded data removed]",
      "text/plain": [
       "<Figure size 432x288 with 1 Axes>"
      ]
     },
     "metadata": {
      "needs_background": "light"
     },
     "output_type": "display_data"
    }
   ],
   "source": [
    "b = cv2.imread('r7.jpg',0)\n",
    "c = cv2.threshold(b, 70, 255, cv2.THRESH_BINARY)[1]\n",
    "plt.imshow(c, cmap='gray')"
   ]
  },
  {
   "cell_type": "code",
   "execution_count": 646,
   "metadata": {},
   "outputs": [
    {
     "data": {
      "text/plain": [
       "'| 26°7732 DA]'"
      ]
     },
     "execution_count": 646,
     "metadata": {},
     "output_type": "execute_result"
    }
   ],
   "source": [
    "tess.image_to_string(c, config='--psm 8')"
   ]
  },
  {
   "cell_type": "code",
   "execution_count": 647,
   "metadata": {},
   "outputs": [
    {
     "data": {
      "text/plain": [
       "'| 2627732 0A]'"
      ]
     },
     "execution_count": 647,
     "metadata": {},
     "output_type": "execute_result"
    }
   ],
   "source": [
    "tess.image_to_string(b, config='--psm 8')"
   ]
  }
 ],
 "metadata": {
  "kernelspec": {
   "display_name": "Python 3",
   "language": "python",
   "name": "python3"
  },
  "language_info": {
   "codemirror_mode": {
    "name": "ipython",
    "version": 3
   },
   "file_extension": ".py",
   "mimetype": "text/x-python",
   "name": "python",
   "nbconvert_exporter": "python",
   "pygments_lexer": "ipython3",
   "version": "3.7.4"
  }
 },
 "nbformat": 4,
 "nbformat_minor": 2
}
