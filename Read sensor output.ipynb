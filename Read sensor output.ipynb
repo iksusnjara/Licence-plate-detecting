{
 "cells": [
  {
   "cell_type": "code",
   "execution_count": 1,
   "metadata": {},
   "outputs": [],
   "source": [
    "import time"
   ]
  },
  {
   "cell_type": "code",
   "execution_count": 272,
   "metadata": {},
   "outputs": [],
   "source": [
    "#reading file to dict\n",
    "with open('sensor_output', 'r') as f:\n",
    "    d = {}\n",
    "    for line in f:\n",
    "        #key and vale become 2 strings, split by .\n",
    "        key, val = line.split(',')\n",
    "        d[str(key)] = int(val)\n",
    "    f.close()"
   ]
  },
  {
   "cell_type": "code",
   "execution_count": 273,
   "metadata": {},
   "outputs": [
    {
     "data": {
      "text/plain": [
       "{'status': 0, 'sensor_1': 0, 'sensor_2': 0}"
      ]
     },
     "execution_count": 273,
     "metadata": {},
     "output_type": "execute_result"
    }
   ],
   "source": [
    "d"
   ]
  },
  {
   "cell_type": "code",
   "execution_count": null,
   "metadata": {},
   "outputs": [],
   "source": [
    "#writing dict values back to file\n",
    "with open('sensor_output', 'w') as f:\n",
    "    for key in d.keys():\n",
    "        # a is key-value pair as list, and then as string\n",
    "        a = str([key, d[key]])\n",
    "        # throwing out ' and whitespace\n",
    "        a = a.replace(\"'\", '')\n",
    "        a = a.replace(' ', '')\n",
    "        # throwing out []\n",
    "        a = a.strip('[,]')\n",
    "        f.write(a)\n",
    "        f.write('\\n')\n",
    "f.close()"
   ]
  },
  {
   "cell_type": "code",
   "execution_count": 2,
   "metadata": {
    "scrolled": true
   },
   "outputs": [
    {
     "name": "stdout",
     "output_type": "stream",
     "text": [
      "car detected\n",
      "car detected\n",
      "car detected\n",
      "car detected\n",
      "car detected\n"
     ]
    },
    {
     "ename": "KeyboardInterrupt",
     "evalue": "",
     "output_type": "error",
     "traceback": [
      "\u001b[0;31m---------------------------------------------------------------------------\u001b[0m",
      "\u001b[0;31mKeyboardInterrupt\u001b[0m                         Traceback (most recent call last)",
      "\u001b[0;32m<ipython-input-2-632ff7e5dd53>\u001b[0m in \u001b[0;36m<module>\u001b[0;34m\u001b[0m\n\u001b[1;32m      3\u001b[0m     \u001b[0;32mwith\u001b[0m \u001b[0mopen\u001b[0m\u001b[0;34m(\u001b[0m\u001b[0;34m'sensor_output'\u001b[0m\u001b[0;34m,\u001b[0m \u001b[0;34m'r'\u001b[0m\u001b[0;34m)\u001b[0m \u001b[0;32mas\u001b[0m \u001b[0mf\u001b[0m\u001b[0;34m:\u001b[0m\u001b[0;34m\u001b[0m\u001b[0;34m\u001b[0m\u001b[0m\n\u001b[1;32m      4\u001b[0m         \u001b[0md\u001b[0m \u001b[0;34m=\u001b[0m \u001b[0;34m{\u001b[0m\u001b[0;34m}\u001b[0m\u001b[0;34m\u001b[0m\u001b[0;34m\u001b[0m\u001b[0m\n\u001b[0;32m----> 5\u001b[0;31m         \u001b[0;32mfor\u001b[0m \u001b[0mline\u001b[0m \u001b[0;32min\u001b[0m \u001b[0mf\u001b[0m\u001b[0;34m:\u001b[0m\u001b[0;34m\u001b[0m\u001b[0;34m\u001b[0m\u001b[0m\n\u001b[0m\u001b[1;32m      6\u001b[0m             \u001b[0mkey\u001b[0m\u001b[0;34m,\u001b[0m \u001b[0mval\u001b[0m \u001b[0;34m=\u001b[0m \u001b[0mline\u001b[0m\u001b[0;34m[\u001b[0m\u001b[0;34m:\u001b[0m\u001b[0;34m-\u001b[0m\u001b[0;36m1\u001b[0m\u001b[0;34m]\u001b[0m\u001b[0;34m.\u001b[0m\u001b[0msplit\u001b[0m\u001b[0;34m(\u001b[0m\u001b[0;34m','\u001b[0m\u001b[0;34m)\u001b[0m\u001b[0;34m\u001b[0m\u001b[0;34m\u001b[0m\u001b[0m\n\u001b[1;32m      7\u001b[0m             \u001b[0md\u001b[0m\u001b[0;34m[\u001b[0m\u001b[0mstr\u001b[0m\u001b[0;34m(\u001b[0m\u001b[0mkey\u001b[0m\u001b[0;34m)\u001b[0m\u001b[0;34m]\u001b[0m \u001b[0;34m=\u001b[0m \u001b[0mint\u001b[0m\u001b[0;34m(\u001b[0m\u001b[0mval\u001b[0m\u001b[0;34m)\u001b[0m\u001b[0;34m\u001b[0m\u001b[0;34m\u001b[0m\u001b[0m\n",
      "\u001b[0;32m/usr/anaconda/lib/python3.7/codecs.py\u001b[0m in \u001b[0;36mdecode\u001b[0;34m(self, input, final)\u001b[0m\n\u001b[1;32m    317\u001b[0m         \u001b[0;32mraise\u001b[0m \u001b[0mNotImplementedError\u001b[0m\u001b[0;34m\u001b[0m\u001b[0;34m\u001b[0m\u001b[0m\n\u001b[1;32m    318\u001b[0m \u001b[0;34m\u001b[0m\u001b[0m\n\u001b[0;32m--> 319\u001b[0;31m     \u001b[0;32mdef\u001b[0m \u001b[0mdecode\u001b[0m\u001b[0;34m(\u001b[0m\u001b[0mself\u001b[0m\u001b[0;34m,\u001b[0m \u001b[0minput\u001b[0m\u001b[0;34m,\u001b[0m \u001b[0mfinal\u001b[0m\u001b[0;34m=\u001b[0m\u001b[0;32mFalse\u001b[0m\u001b[0;34m)\u001b[0m\u001b[0;34m:\u001b[0m\u001b[0;34m\u001b[0m\u001b[0;34m\u001b[0m\u001b[0m\n\u001b[0m\u001b[1;32m    320\u001b[0m         \u001b[0;31m# decode input (taking the buffer into account)\u001b[0m\u001b[0;34m\u001b[0m\u001b[0;34m\u001b[0m\u001b[0;34m\u001b[0m\u001b[0m\n\u001b[1;32m    321\u001b[0m         \u001b[0mdata\u001b[0m \u001b[0;34m=\u001b[0m \u001b[0mself\u001b[0m\u001b[0;34m.\u001b[0m\u001b[0mbuffer\u001b[0m \u001b[0;34m+\u001b[0m \u001b[0minput\u001b[0m\u001b[0;34m\u001b[0m\u001b[0;34m\u001b[0m\u001b[0m\n",
      "\u001b[0;31mKeyboardInterrupt\u001b[0m: "
     ]
    }
   ],
   "source": [
    "while True:\n",
    "    #reading file as dictionary\n",
    "    with open('sensor_output', 'r') as f:\n",
    "        d = {}\n",
    "        for line in f:\n",
    "            key, val = line[:-1].split(',')\n",
    "            d[str(key)] = int(val)\n",
    "        f.close()\n",
    "    #reading status\n",
    "    if d['status'] == 0:\n",
    "        #if 0 (closed) : read front sensor\n",
    "        # if 1, detect lp\n",
    "        if d['sensor_1'] == 1:\n",
    "            print('car detected')\n",
    "            #say lp detected, open ramp\n",
    "            d['status'] = 1\n",
    "            #write new value to file\n",
    "            with open('sensor_output', 'w') as f:\n",
    "                for key in d.keys():\n",
    "                    a = str([key, d[key]])\n",
    "                    a = a.replace(\"'\", '')\n",
    "                    a = a.replace(' ', '')\n",
    "                    a = a.strip('[,]')\n",
    "                    f.write(a)\n",
    "                    f.write('\\n')\n",
    "            f.close()\n",
    "            \n",
    "            #ramp open. read file again. if back sensor is off (0), lower ramp, \n",
    "            # write to file and wait for new car\n",
    "            with open('sensor_output', 'r') as f:\n",
    "                d = {}\n",
    "                for line in f:\n",
    "                    key, val = line[:-1].split(',')\n",
    "                    d[str(key)] = int(val)\n",
    "                f.close()\n",
    "            #if sensor 2 == 1 (car still there)\n",
    "            #sleep for 2 secs, check again by reading file\n",
    "            while d['sensor_2'] == 1:\n",
    "                time.sleep(2)\n",
    "                #read file\n",
    "                with open('sensor_output', 'r') as f:\n",
    "                    d = {}\n",
    "                    for line in f:\n",
    "                        key, val = line[:-1].split(',')\n",
    "                        d[str(key)] = int(val)\n",
    "                f.close()\n",
    "                # if 0, break loop\n",
    "                if d['sensor_2'] == 0:\n",
    "                    break\n",
    "                else:\n",
    "                    continue\n",
    "                    \n",
    "            #if sensor 2 is 0 (no car), close the ramp and continue checking for cars in front\n",
    "            if d['sensor_2'] == 0:\n",
    "                #set all to 0 - ramp closed, both sensors not detecting\n",
    "                # 999 for testing purposes\n",
    "                d['sensor_2'] = 0\n",
    "                d['sensor_1'] = 0\n",
    "                d['status'] = 0\n",
    "                #write new value to file\n",
    "                with open('sensor_output', 'w') as f:\n",
    "                    for key in d.keys():\n",
    "                        a = str([key, d[key]])\n",
    "                        a = a.replace(\"'\", '')\n",
    "                        a = a.replace(' ', '')\n",
    "                        a = a.strip('[,]')\n",
    "                        f.write(a)\n",
    "                        f.write('\\n')\n",
    "                    f.close()\n",
    "                    \n",
    "                #first while loop stil online, continues to check for approaching cars"
   ]
  },
  {
   "cell_type": "code",
   "execution_count": null,
   "metadata": {},
   "outputs": [],
   "source": []
  }
 ],
 "metadata": {
  "kernelspec": {
   "display_name": "Python 3",
   "language": "python",
   "name": "python3"
  },
  "language_info": {
   "codemirror_mode": {
    "name": "ipython",
    "version": 3
   },
   "file_extension": ".py",
   "mimetype": "text/x-python",
   "name": "python",
   "nbconvert_exporter": "python",
   "pygments_lexer": "ipython3",
   "version": "3.7.4"
  }
 },
 "nbformat": 4,
 "nbformat_minor": 2
}
